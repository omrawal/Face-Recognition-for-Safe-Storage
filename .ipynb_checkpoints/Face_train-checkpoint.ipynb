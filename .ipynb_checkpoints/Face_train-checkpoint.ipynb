{
 "cells": [
  {
   "cell_type": "code",
   "execution_count": 1,
   "metadata": {},
   "outputs": [],
   "source": [
    "import cv2\n",
    "import face_recognition\n",
    "import os"
   ]
  },
  {
   "cell_type": "code",
   "execution_count": 2,
   "metadata": {},
   "outputs": [],
   "source": [
    "KNOWN_FACES_DIR='known_faces'\n",
    "UNKNOWN_FACES_DIR='unknown_faces'\n",
    "TOLERANCE=0.475\n",
    "FRAME_THICKNESS=3\n",
    "FONT_THICKNESS=2\n",
    "MODEL='hog'"
   ]
  },
  {
   "cell_type": "code",
   "execution_count": 3,
   "metadata": {},
   "outputs": [],
   "source": [
    "known_faces=[]\n",
    "known_names=[]"
   ]
  },
  {
   "cell_type": "code",
   "execution_count": 4,
   "metadata": {},
   "outputs": [
    {
     "name": "stdout",
     "output_type": "stream",
     "text": [
      "Loading Known Faces...\n",
      "Processing Unknown Faces...\n",
      "aisan_girl.jpg\n",
      "ElonFake.jpg\n",
      "ElonMusk.jfif\n",
      "Match Found ElonMusk(2).jfif\n",
      "elonMuskDeepFake.jpg\n",
      "Gates(2).jfif\n",
      "Match Found gates(3).jfif\n",
      "gatesfake.jpg\n",
      "gates_real.jpg\n",
      "group1.jfif\n",
      "Match Found gates(3).jfif\n",
      "group2.jfif\n",
      "group3.jfif\n",
      "Group3.jpg\n",
      "group4.jpg\n",
      "Match Found Jing_Tian(2).jfif\n",
      "Match Found Jing_Tian(2).jfif\n",
      "Match Found Jing_Tian(2).jfif\n",
      "Jing_tian (4).jfif\n",
      "Match Found Jing_Tian(2).jfif\n",
      "Jing_tian.jfif\n",
      "Match Found JIng_Tian(3).jfif\n",
      "jing_Tian_fake.jfif\n",
      "Match Found Jing_Tian(2).jfif\n",
      "jing_tian_fake1.jfif\n",
      "realface1.jpg\n",
      "realface2.jpg\n",
      "realface3.jpg\n"
     ]
    }
   ],
   "source": [
    "print('Loading Known Faces...')\n",
    "for name in os.listdir(KNOWN_FACES_DIR):\n",
    "#     for filename in os.listdir(f'{KNOWN_FACES_DIR}/{name}'):\n",
    "    image=face_recognition.load_image_file(f'{KNOWN_FACES_DIR}/{name}')\n",
    "    face_encoding=face_recognition.face_encodings(image)[0]\n",
    "    known_faces.append(face_encoding)\n",
    "    known_names.append(name)\n",
    "print('Processing Unknown Faces...')\n",
    "for filename in os.listdir(UNKNOWN_FACES_DIR):\n",
    "    print(filename)\n",
    "    image=face_recognition.load_image_file(os.path.join(UNKNOWN_FACES_DIR,filename))\n",
    "    locations=face_recognition.face_locations(image,model=MODEL)\n",
    "    encodings=face_recognition.face_encodings(image,locations)\n",
    "    image=cv2.cvtColor(image,cv2.COLOR_RGB2BGR)\n",
    "    \n",
    "    for face_encoding,face_location in zip(encodings,locations):\n",
    "        results=face_recognition.compare_faces(known_faces,face_encoding,TOLERANCE)\n",
    "        match=None\n",
    "        if True in results:\n",
    "            match= known_names[results.index(True)]\n",
    "            print('Match Found',match)\n",
    "            \n",
    "            top_left=(face_location[3],face_location[0])\n",
    "            bottom_right=(face_location[1],face_location[2])\n",
    "            color=[0,255,0]\n",
    "            \n",
    "            cv2.rectangle(image,top_left,bottom_right,color,FRAME_THICKNESS)\n",
    "            top_left=(face_location[3],face_location[2])\n",
    "            bottom_right=(face_location[1],face_location[2]+22)\n",
    "            \n",
    "            cv2.rectangle(image,top_left,bottom_right,color,cv2.FILLED)\n",
    "            cv2.putText(image,match,(face_location[3]+10,face_location[2]+15),cv2.FONT_HERSHEY_COMPLEX,0.5,[200,200,200],FONT_THICKNESS)\n",
    "#     while(1):\n",
    "#         cv2.imshow(filename,image)\n",
    "#         k = cv2.waitKey(33)\n",
    "#         if k==27:    # Esc key to stop\n",
    "#             break\n",
    "    \n",
    "    cv2.imshow(filename,image)\n",
    "    cv2.waitKey(10000)\n",
    "#     cv2.destroyAllWindows(filename)\n",
    "            \n",
    "            "
   ]
  },
  {
   "cell_type": "code",
   "execution_count": null,
   "metadata": {},
   "outputs": [],
   "source": []
  }
 ],
 "metadata": {
  "kernelspec": {
   "display_name": "Python 3",
   "language": "python",
   "name": "python3"
  },
  "language_info": {
   "codemirror_mode": {
    "name": "ipython",
    "version": 3
   },
   "file_extension": ".py",
   "mimetype": "text/x-python",
   "name": "python",
   "nbconvert_exporter": "python",
   "pygments_lexer": "ipython3",
   "version": "3.7.9"
  }
 },
 "nbformat": 4,
 "nbformat_minor": 4
}
