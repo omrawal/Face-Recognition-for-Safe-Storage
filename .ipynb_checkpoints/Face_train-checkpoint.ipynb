{
 "cells": [
  {
   "cell_type": "code",
   "execution_count": 2,
   "metadata": {},
   "outputs": [],
   "source": [
    "import cv2\n",
    "import face_recognition\n",
    "import os"
   ]
  },
  {
   "cell_type": "code",
   "execution_count": 4,
   "metadata": {},
   "outputs": [],
   "source": [
    "KNOWN_FACES_DIR='known_faces'\n",
    "UNKNOWN_FACES_DIR='unknown_faces'\n",
    "TOLERANCE=0.6\n",
    "FRAME_THICKNESS=3\n",
    "FONT_THICKNESS=2\n",
    "MODEL='hog'"
   ]
  },
  {
   "cell_type": "code",
   "execution_count": 5,
   "metadata": {},
   "outputs": [],
   "source": [
    "known_faces=[]\n",
    "known_names=[]"
   ]
  },
  {
   "cell_type": "code",
   "execution_count": null,
   "metadata": {},
   "outputs": [],
   "source": [
    "print('Loading Known Faces...')\n",
    "for name in os.listdir(KNOWN_FACES_DIR):\n",
    "    for filename in os.listdir(os.path.join(KNOWN_FACES_DIR,name)):\n",
    "        image=face_recognition.load_image_file(os.path.join(KNOWN_FACES_DIR,name,filename))\n",
    "        face_encoding=face_recognition.face_encodings(image)[0]\n",
    "        known_faces.append(encoding)\n",
    "        known_names.append(name)\n",
    "print('Processing Unknown Faces...')\n",
    "for filename in os.listdir(UNKNOWN_FACES_DIR):\n",
    "    print(filename)\n",
    "    image=face_recognition.load_image_file(os.path.join(UNKNOWN_FACES_DIR,filename))\n",
    "    locations=face_recognition.face_locations(image,model=MODEL)\n",
    "    encodings=face_recognition.face_encodings(image,locations)\n",
    "    image=cv2.cvtColor(image,cv2.COLOR_RGB2BGR)\n",
    "    \n",
    "    for face_encoding,face_location in zip(encodings,locaions):\n",
    "        results=face_recognition.compare_faces(known_faces,face_encoding,TOLERANCE)\n",
    "        match=None\n",
    "        if True in results:\n",
    "            match= known_names[results.index(True)]\n",
    "            print('Match Found',match)\n",
    "            "
   ]
  }
 ],
 "metadata": {
  "kernelspec": {
   "display_name": "Python 3",
   "language": "python",
   "name": "python3"
  },
  "language_info": {
   "codemirror_mode": {
    "name": "ipython",
    "version": 3
   },
   "file_extension": ".py",
   "mimetype": "text/x-python",
   "name": "python",
   "nbconvert_exporter": "python",
   "pygments_lexer": "ipython3",
   "version": "3.7.9"
  }
 },
 "nbformat": 4,
 "nbformat_minor": 4
}
