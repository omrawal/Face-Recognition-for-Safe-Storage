{
 "cells": [
  {
   "cell_type": "code",
   "execution_count": 1,
   "metadata": {},
   "outputs": [],
   "source": [
    "import os"
   ]
  },
  {
   "cell_type": "code",
   "execution_count": 2,
   "metadata": {},
   "outputs": [],
   "source": [
    "import cv2"
   ]
  },
  {
   "cell_type": "code",
   "execution_count": 3,
   "metadata": {},
   "outputs": [],
   "source": [
    "import face_recognition"
   ]
  },
  {
   "cell_type": "code",
   "execution_count": 4,
   "metadata": {},
   "outputs": [],
   "source": [
    "if(os.path.exists('log.txt')==False):\n",
    "    file1 = open(\"log.txt\", \"w\")\n",
    "    file1.close()\n",
    "file1= open(\"log.txt\", \"a\")\n",
    "a=['hello','world','is','a','fantastic place','where everyone','loves to stay']\n",
    "for i in a:\n",
    "    i+='\\n'\n",
    "    file1.write(i)\n",
    "file1.close()\n"
   ]
  },
  {
   "cell_type": "code",
   "execution_count": 16,
   "metadata": {},
   "outputs": [
    {
     "name": "stdout",
     "output_type": "stream",
     "text": [
      "['hello', 'world', 'is', 'a', 'fantastic place', 'where everyone', 'loves to stay']\n"
     ]
    }
   ],
   "source": [
    "if(os.path.exists('log.txt')):\n",
    "    file=open('log.txt','r')\n",
    "    file_list=[]\n",
    "    for i in file:\n",
    "        file_list.append(i[:-1])\n",
    "    if(len(file_list)==0):\n",
    "        print('There are no list')\n",
    "    else:\n",
    "        print(file_list)\n",
    "    file.close()\n",
    "else:\n",
    "    print('There are no pending todos!')"
   ]
  },
  {
   "cell_type": "code",
   "execution_count": 14,
   "metadata": {},
   "outputs": [],
   "source": [
    "def getUsers(username):\n",
    "    if(os.path.exists(username)):\n",
    "        return True\n",
    "    else:\n",
    "        return False"
   ]
  },
  {
   "cell_type": "code",
   "execution_count": 4,
   "metadata": {},
   "outputs": [],
   "source": [
    "def getUserList():\n",
    "    if(os.path.exists('log.txt')):\n",
    "        file=open('log.txt','r')\n",
    "        file_list=[]\n",
    "        for i in file:\n",
    "            file_list.append(i[:-1])\n",
    "        if(len(file_list)==0):\n",
    "            file.close()\n",
    "            return([])\n",
    "        else:\n",
    "            file.close()\n",
    "            return(file_list)\n",
    "    else:\n",
    "        return False"
   ]
  },
  {
   "cell_type": "code",
   "execution_count": 5,
   "metadata": {},
   "outputs": [],
   "source": [
    "def addUser(username):\n",
    "    if(os.path.exists('log.txt')==False):\n",
    "        file1 = open(\"log.txt\", \"w\")\n",
    "        file1.close()\n",
    "    file1= open(\"log.txt\", \"a\")\n",
    "    username+='\\n'\n",
    "    file1.write(username)\n",
    "    file1.close()"
   ]
  },
  {
   "cell_type": "code",
   "execution_count": 12,
   "metadata": {},
   "outputs": [
    {
     "data": {
      "text/plain": [
       "['Om', 'Utpal', 'james', 'jbond', 'jing tian']"
      ]
     },
     "execution_count": 12,
     "metadata": {},
     "output_type": "execute_result"
    }
   ],
   "source": [
    "getUserList()"
   ]
  },
  {
   "cell_type": "code",
   "execution_count": 11,
   "metadata": {},
   "outputs": [],
   "source": [
    "addUser('jing tian')"
   ]
  },
  {
   "cell_type": "code",
   "execution_count": null,
   "metadata": {},
   "outputs": [],
   "source": []
  }
 ],
 "metadata": {
  "kernelspec": {
   "display_name": "Python 3",
   "language": "python",
   "name": "python3"
  },
  "language_info": {
   "codemirror_mode": {
    "name": "ipython",
    "version": 3
   },
   "file_extension": ".py",
   "mimetype": "text/x-python",
   "name": "python",
   "nbconvert_exporter": "python",
   "pygments_lexer": "ipython3",
   "version": "3.7.9"
  }
 },
 "nbformat": 4,
 "nbformat_minor": 4
}
