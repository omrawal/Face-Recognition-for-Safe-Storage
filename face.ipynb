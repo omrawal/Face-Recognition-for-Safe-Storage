{
 "cells": [
  {
   "cell_type": "code",
   "execution_count": 14,
   "metadata": {},
   "outputs": [],
   "source": [
    "import os"
   ]
  },
  {
   "cell_type": "code",
   "execution_count": 15,
   "metadata": {},
   "outputs": [],
   "source": [
    "import cv2"
   ]
  },
  {
   "cell_type": "code",
   "execution_count": 16,
   "metadata": {},
   "outputs": [],
   "source": [
    "import face_recognition"
   ]
  },
  {
   "cell_type": "code",
   "execution_count": 17,
   "metadata": {},
   "outputs": [],
   "source": [
    "import datetime\n"
   ]
  },
  {
   "cell_type": "code",
   "execution_count": 4,
   "metadata": {},
   "outputs": [],
   "source": [
    "if(os.path.exists('log.txt')==False):\n",
    "    file1 = open(\"log.txt\", \"w\")\n",
    "    file1.close()\n",
    "file1= open(\"log.txt\", \"a\")\n",
    "a=['hello','world','is','a','fantastic place','where everyone','loves to stay']\n",
    "for i in a:\n",
    "    i+='\\n'\n",
    "    file1.write(i)\n",
    "file1.close()\n"
   ]
  },
  {
   "cell_type": "code",
   "execution_count": 16,
   "metadata": {},
   "outputs": [
    {
     "name": "stdout",
     "output_type": "stream",
     "text": [
      "['hello', 'world', 'is', 'a', 'fantastic place', 'where everyone', 'loves to stay']\n"
     ]
    }
   ],
   "source": [
    "if(os.path.exists('log.txt')):\n",
    "    file=open('log.txt','r')\n",
    "    file_list=[]\n",
    "    for i in file:\n",
    "        file_list.append(i[:-1])\n",
    "    if(len(file_list)==0):\n",
    "        print('There are no list')\n",
    "    else:\n",
    "        print(file_list)\n",
    "    file.close()\n",
    "else:\n",
    "    print('There are no pending todos!')"
   ]
  },
  {
   "cell_type": "code",
   "execution_count": 18,
   "metadata": {},
   "outputs": [],
   "source": [
    "def getUsers(username):\n",
    "    if(os.path.exists(username)):\n",
    "        return True\n",
    "    else:\n",
    "        return False"
   ]
  },
  {
   "cell_type": "code",
   "execution_count": 19,
   "metadata": {},
   "outputs": [],
   "source": [
    "def getUserList(): # gives list of all users from the log\n",
    "    if(os.path.exists('log.txt')):\n",
    "        file=open('log.txt','r')\n",
    "        file_list=[]\n",
    "        for i in file:\n",
    "            file_list.append(i[:-1])\n",
    "        if(len(file_list)==0):\n",
    "            file.close()\n",
    "            return([])\n",
    "        else:\n",
    "            file.close()\n",
    "            return(file_list)\n",
    "    else:\n",
    "        print('Log File Absent')\n",
    "        return False"
   ]
  },
  {
   "cell_type": "code",
   "execution_count": 20,
   "metadata": {},
   "outputs": [],
   "source": [
    "def addUserLog(username): # adds a new user to the log of users\n",
    "    if(os.path.exists('log.txt')):\n",
    "        userList=getUserList()\n",
    "        if(username in userList):\n",
    "            print('username Already Exists')\n",
    "            return False\n",
    "    if(os.path.exists('log.txt')==False):\n",
    "        file1 = open(\"log.txt\", \"w\")\n",
    "        file1.close()\n",
    "    file1= open(\"log.txt\", \"a\")\n",
    "    username+='\\n'\n",
    "    file1.write(username)\n",
    "    file1.close()\n",
    "    return True"
   ]
  },
  {
   "cell_type": "code",
   "execution_count": 12,
   "metadata": {},
   "outputs": [
    {
     "data": {
      "text/plain": [
       "['Om', 'Utpal', 'james', 'jbond', 'jing tian']"
      ]
     },
     "execution_count": 12,
     "metadata": {},
     "output_type": "execute_result"
    }
   ],
   "source": [
    "getUserList()"
   ]
  },
  {
   "cell_type": "code",
   "execution_count": 11,
   "metadata": {},
   "outputs": [],
   "source": [
    "addUser('jing tian')"
   ]
  },
  {
   "cell_type": "code",
   "execution_count": 21,
   "metadata": {},
   "outputs": [],
   "source": [
    "def containsFace(filename): # check if the added image contains only one face also rejects deepfakes\n",
    "#     face_cascade=cv2.CascadeClassifier('assets/haarcascade_frontalface_default.xml')\n",
    "#     img=cv2.imread(filename,0)\n",
    "#     face_rect=face_cascade.detectMultiScale(img,scaleFactor=1.05,minNeighbors=5)\n",
    "    image = face_recognition.load_image_file(filename)\n",
    "    face_locations = face_recognition.face_locations(image)\n",
    "    print(face_locations)\n",
    "    if(len(face_locations)==1):\n",
    "        return True\n",
    "    else:\n",
    "        return False"
   ]
  },
  {
   "cell_type": "code",
   "execution_count": 63,
   "metadata": {},
   "outputs": [
    {
     "name": "stdout",
     "output_type": "stream",
     "text": [
      "[(80, 187, 187, 79)]\n"
     ]
    },
    {
     "data": {
      "text/plain": [
       "True"
      ]
     },
     "execution_count": 63,
     "metadata": {},
     "output_type": "execute_result"
    }
   ],
   "source": [
    "containsFace('known_faces/Jing_Tian(2).jfif')"
   ]
  },
  {
   "cell_type": "code",
   "execution_count": 22,
   "metadata": {},
   "outputs": [],
   "source": [
    "def save_user(imgPath,username,flag=False): # save the image and also update log if user is unique username\n",
    "    if(not containsFace(imgPath) and not flag):\n",
    "        print('Invalid Image! Please Retry')\n",
    "        return False\n",
    "    if(not addUserLog(username)and not flag):\n",
    "        print('Invalid Username! Please Retry')\n",
    "        return False\n",
    "    img_name=datetime.datetime.now().strftime(\"%d-%m-%Y-%H-%M-%S\")+'.jpg'\n",
    "    if(not os.path.exists(username)):\n",
    "        os.umask(0)\n",
    "        os.mkdir(os.getcwd()+'\\\\'+username,mode=0o777)\n",
    "    img_name=username+'\\\\'+img_name\n",
    "    image = cv2.imread(imgPath)\n",
    "    cv2.imwrite(img_name, image, [int(cv2.IMWRITE_JPEG_QUALITY), 100])\n",
    "    return True"
   ]
  },
  {
   "cell_type": "code",
   "execution_count": 97,
   "metadata": {},
   "outputs": [
    {
     "name": "stdout",
     "output_type": "stream",
     "text": [
      "[(55, 104, 130, 30)]\n"
     ]
    },
    {
     "data": {
      "text/plain": [
       "True"
      ]
     },
     "execution_count": 97,
     "metadata": {},
     "output_type": "execute_result"
    }
   ],
   "source": [
    "save_user('known_faces/Gates.jfif','BillGates')"
   ]
  },
  {
   "cell_type": "code",
   "execution_count": 95,
   "metadata": {},
   "outputs": [
    {
     "name": "stdout",
     "output_type": "stream",
     "text": [
      "[(72, 129, 146, 55)]\n"
     ]
    },
    {
     "data": {
      "text/plain": [
       "True"
      ]
     },
     "execution_count": 95,
     "metadata": {},
     "output_type": "execute_result"
    }
   ],
   "source": [
    "save_user('known_faces/JIng_Tian(3).jfif','JingTian')"
   ]
  },
  {
   "cell_type": "code",
   "execution_count": 23,
   "metadata": {},
   "outputs": [],
   "source": [
    "def authenticateUser(imgPath,username):\n",
    "    if(username not in getUserList()):\n",
    "        print('username not in LoG')\n",
    "        return False\n",
    "    if(not containsFace(imgPath)):\n",
    "        print('no face detected')\n",
    "        return False\n",
    "    if(not getUsers(username)):\n",
    "        print('No face data Found')\n",
    "        return False\n",
    "    KNOWN_FACES_DIR=username\n",
    "    TOLERANCE=0.475\n",
    "    FRAME_THICKNESS=3\n",
    "    FONT_THICKNESS=2\n",
    "    MODEL='hog'\n",
    "    known_faces=[]\n",
    "    print('Loading Known Faces...')\n",
    "    for name in os.listdir(KNOWN_FACES_DIR):\n",
    "        image=face_recognition.load_image_file(f'{KNOWN_FACES_DIR}/{name}')\n",
    "        face_encoding=face_recognition.face_encodings(image)[0]\n",
    "        known_faces.append(face_encoding)\n",
    "    image=face_recognition.load_image_file(imgPath)\n",
    "    locations=face_recognition.face_locations(image,model=MODEL)\n",
    "    encodings=face_recognition.face_encodings(image,locations)\n",
    "    for face_encoding,face_location in zip(encodings,locations):\n",
    "        results=face_recognition.compare_faces(known_faces,face_encoding,TOLERANCE)\n",
    "        match=None\n",
    "        if True in results:\n",
    "            save_user(imgPath,username,flag=True)\n",
    "            return True\n",
    "        else:\n",
    "            return False\n"
   ]
  },
  {
   "cell_type": "code",
   "execution_count": 54,
   "metadata": {},
   "outputs": [
    {
     "data": {
      "text/plain": [
       "False"
      ]
     },
     "execution_count": 54,
     "metadata": {},
     "output_type": "execute_result"
    }
   ],
   "source": [
    "getUsers('ElonMus')"
   ]
  },
  {
   "cell_type": "code",
   "execution_count": 24,
   "metadata": {},
   "outputs": [
    {
     "name": "stdout",
     "output_type": "stream",
     "text": [
      "[(290, 407, 675, 33)]\n"
     ]
    },
    {
     "data": {
      "text/plain": [
       "True"
      ]
     },
     "execution_count": 24,
     "metadata": {},
     "output_type": "execute_result"
    }
   ],
   "source": [
    "save_user('known_faces/Elonreal.jpg','ElonMusk')"
   ]
  },
  {
   "cell_type": "code",
   "execution_count": 29,
   "metadata": {},
   "outputs": [
    {
     "name": "stdout",
     "output_type": "stream",
     "text": [
      "[(32, 158, 84, 106)]\n",
      "Loading Known Faces...\n",
      "[(32, 158, 84, 106)]\n",
      "username Already Exists\n"
     ]
    },
    {
     "data": {
      "text/plain": [
       "True"
      ]
     },
     "execution_count": 29,
     "metadata": {},
     "output_type": "execute_result"
    }
   ],
   "source": [
    "authenticateUser('unknown_faces/ElonMusk.jfif','ElonMusk')"
   ]
  },
  {
   "cell_type": "code",
   "execution_count": 27,
   "metadata": {},
   "outputs": [
    {
     "name": "stdout",
     "output_type": "stream",
     "text": [
      "[(66, 155, 156, 66)]\n"
     ]
    },
    {
     "data": {
      "text/plain": [
       "True"
      ]
     },
     "execution_count": 27,
     "metadata": {},
     "output_type": "execute_result"
    }
   ],
   "source": [
    "save_user('known_faces/gates(3).jfif','BillGates')"
   ]
  },
  {
   "cell_type": "code",
   "execution_count": 30,
   "metadata": {},
   "outputs": [
    {
     "name": "stdout",
     "output_type": "stream",
     "text": [
      "[(46, 205, 136, 116)]\n",
      "Loading Known Faces...\n",
      "[(46, 205, 136, 116)]\n",
      "username Already Exists\n"
     ]
    },
    {
     "data": {
      "text/plain": [
       "True"
      ]
     },
     "execution_count": 30,
     "metadata": {},
     "output_type": "execute_result"
    }
   ],
   "source": [
    "authenticateUser('unknown_faces/Gates(2).jfif','BillGates')"
   ]
  },
  {
   "cell_type": "code",
   "execution_count": 36,
   "metadata": {},
   "outputs": [
    {
     "name": "stdout",
     "output_type": "stream",
     "text": [
      "[(47, 96, 121, 21)]\n"
     ]
    },
    {
     "data": {
      "text/plain": [
       "True"
      ]
     },
     "execution_count": 36,
     "metadata": {},
     "output_type": "execute_result"
    }
   ],
   "source": [
    "save_user('C://Users/omraw/Downloads/om_codechef.png','OmRawal')"
   ]
  },
  {
   "cell_type": "code",
   "execution_count": 43,
   "metadata": {},
   "outputs": [
    {
     "name": "stdout",
     "output_type": "stream",
     "text": [
      "[(320, 765, 587, 498)]\n",
      "Loading Known Faces...\n",
      "[(320, 765, 587, 498)]\n",
      "username Already Exists\n"
     ]
    },
    {
     "data": {
      "text/plain": [
       "True"
      ]
     },
     "execution_count": 43,
     "metadata": {},
     "output_type": "execute_result"
    }
   ],
   "source": [
    "authenticateUser('C:/Users/omraw/Pictures/Camera Roll/WIN_20210131_18_22_09_Pro.jpg','OmRawal')"
   ]
  },
  {
   "cell_type": "code",
   "execution_count": null,
   "metadata": {},
   "outputs": [],
   "source": []
  }
 ],
 "metadata": {
  "kernelspec": {
   "display_name": "Python 3",
   "language": "python",
   "name": "python3"
  },
  "language_info": {
   "codemirror_mode": {
    "name": "ipython",
    "version": 3
   },
   "file_extension": ".py",
   "mimetype": "text/x-python",
   "name": "python",
   "nbconvert_exporter": "python",
   "pygments_lexer": "ipython3",
   "version": "3.7.9"
  }
 },
 "nbformat": 4,
 "nbformat_minor": 4
}
